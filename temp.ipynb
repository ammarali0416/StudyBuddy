{
 "cells": [
  {
   "cell_type": "code",
   "execution_count": 19,
   "metadata": {},
   "outputs": [],
   "source": [
    "from azure.storage.blob import BlobServiceClient, BlobClient, ContainerClient\n",
    "import openai\n",
    "from openai import OpenAI\n",
    "from dotenv import load_dotenv, find_dotenv\n",
    "import os"
   ]
  },
  {
   "cell_type": "code",
   "execution_count": 20,
   "metadata": {},
   "outputs": [],
   "source": [
    "blob_service_client = BlobServiceClient.from_connection_string(os.getenv(\"AZURE_STORAGE_CONNECTION_STRING\"))\n",
    "container_client = blob_service_client.get_container_client(os.getenv(\"AZURE_CONTAINER\"))\n",
    "\n",
    "client = OpenAI(\n",
    "    api_key=os.getenv(\"OPENAI_API_KEY\"),\n",
    ")"
   ]
  },
  {
   "cell_type": "code",
   "execution_count": 24,
   "metadata": {},
   "outputs": [],
   "source": [
    "staging_dir = '/path/to/your/project/staging'\n",
    "os.makedirs(staging_dir, exist_ok=True)\n",
    "\n",
    "\n",
    "blob_paths = [\n",
    "'BUS5000/Introduction/10dayMBA - Intro.pdf',\n",
    "'BUS5000/Introduction/STUDENT_NOTES/s1/s1w0.docx',\n",
    "'BUS5000/Introduction/STUDENT_NOTES/s2/s2w0.docx'\n",
    "]\n",
    "# List to store file objects\n",
    "uploaded_files = []\n",
    "\n",
    "for blob_path in blob_paths:\n",
    "    # Adjust the path to save in the staging directory\n",
    "    staging_path = os.path.join(staging_dir, os.path.basename(blob_path))\n",
    "\n",
    "    # Download the file from Azure Blob\n",
    "    blob_client = container_client.get_blob_client(blob_path)\n",
    "    with open(staging_path, \"wb\") as download_file:\n",
    "        download_file.write(blob_client.download_blob().readall())\n",
    "\n",
    "    # Upload the file to OpenAI\n",
    "    with open(staging_path, \"rb\") as file:\n",
    "        response = client.files.create(file=file, purpose=\"assistants\")\n",
    "        uploaded_files.append(response)\n",
    "\n",
    "    # Delete the file from the staging directory\n",
    "    os.remove(staging_path)"
   ]
  },
  {
   "cell_type": "code",
   "execution_count": 26,
   "metadata": {},
   "outputs": [],
   "source": [
    "for file in uploaded_files:\n",
    "    #print(file.id + '-' + file.filename)\n",
    "    client.files.delete(file.id)\n"
   ]
  }
 ],
 "metadata": {
  "kernelspec": {
   "display_name": ".venv",
   "language": "python",
   "name": "python3"
  },
  "language_info": {
   "codemirror_mode": {
    "name": "ipython",
    "version": 3
   },
   "file_extension": ".py",
   "mimetype": "text/x-python",
   "name": "python",
   "nbconvert_exporter": "python",
   "pygments_lexer": "ipython3",
   "version": "3.9.6"
  }
 },
 "nbformat": 4,
 "nbformat_minor": 2
}
