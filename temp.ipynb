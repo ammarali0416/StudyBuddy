{
 "cells": [
  {
   "cell_type": "code",
   "execution_count": 9,
   "metadata": {},
   "outputs": [],
   "source": [
    "from azure.storage.blob import BlobServiceClient, BlobClient, ContainerClient\n",
    "import openai\n",
    "from openai import OpenAI\n",
    "from dotenv import load_dotenv, find_dotenv\n",
    "import os\n",
    "import json"
   ]
  },
  {
   "cell_type": "code",
   "execution_count": 10,
   "metadata": {},
   "outputs": [],
   "source": [
    "blob_service_client = BlobServiceClient.from_connection_string(os.getenv(\"AZURE_STORAGE_CONNECTION_STRING\"))\n",
    "container_client = blob_service_client.get_container_client(os.getenv(\"AZURE_CONTAINER\"))\n",
    "\n",
    "client = OpenAI(\n",
    "    api_key=os.getenv(\"OPENAI_API_KEY\"),\n",
    ")"
   ]
  },
  {
   "cell_type": "code",
   "execution_count": 22,
   "metadata": {},
   "outputs": [],
   "source": [
    "staging_dir = '/staging'\n",
    "os.makedirs(staging_dir, exist_ok=True)\n",
    "\n",
    "\n",
    "blob_paths = [\n",
    "'BUS5000/Introduction/10dayMBA - Intro.pdf',\n",
    "'BUS5000/Introduction/STUDENT_NOTES/s1/s1w0.docx',\n",
    "'BUS5000/Introduction/STUDENT_NOTES/s2/s2w0.docx'\n",
    "]\n",
    "# List to store file objects\n",
    "uploaded_files = []\n",
    "\n",
    "for blob_path in blob_paths:\n",
    "    # Adjust the path to save in the staging directory\n",
    "    staging_path = os.path.join(staging_dir, os.path.basename(blob_path))\n",
    "\n",
    "    # Download the file from Azure Blob\n",
    "    blob_client = container_client.get_blob_client(blob_path)\n",
    "    with open(staging_path, \"wb\") as download_file:\n",
    "        download_file.write(blob_client.download_blob().readall())\n",
    "\n",
    "    # Upload the file to OpenAI\n",
    "    with open(staging_path, \"rb\") as file:\n",
    "        response = client.files.create(file=file, purpose=\"assistants\")\n",
    "        uploaded_files.append(response)\n",
    "\n",
    "    # Delete the file from the staging directory\n",
    "    os.remove(staging_path)\n",
    "\n",
    "# Function to convert FileObject to a serializable dictionary\n",
    "def file_object_to_dict(file_obj):\n",
    "    return {\n",
    "        'id': file_obj.id,\n",
    "        'bytes': file_obj.bytes,\n",
    "        'created_at': file_obj.created_at,\n",
    "        'filename': file_obj.filename,\n",
    "        'object': file_obj.object,\n",
    "        'purpose': file_obj.purpose,\n",
    "        'status': file_obj.status,\n",
    "        'status_details': file_obj.status_details\n",
    "    }\n",
    "\n",
    "# Convert each FileObject in the list to a dictionary\n",
    "file_dicts = [file_object_to_dict(file_obj) for file_obj in uploaded_files]\n",
    "\n",
    "# Save the list of dictionaries as a JSON list\n",
    "json_path = './.bin/files.json'\n",
    "with open(json_path, 'w') as json_file:\n",
    "    json.dump(file_dicts, json_file)"
   ]
  },
  {
   "cell_type": "code",
   "execution_count": 19,
   "metadata": {},
   "outputs": [
    {
     "name": "stdout",
     "output_type": "stream",
     "text": [
      "SyncPage[FileObject](data=[], object='list', has_more=False)\n"
     ]
    }
   ],
   "source": [
    "print(client.files.list())"
   ]
  },
  {
   "cell_type": "code",
   "execution_count": 21,
   "metadata": {},
   "outputs": [],
   "source": [
    "def delete_files_from_openai():\n",
    "    json_path = './.bin/files.json'\n",
    "    # Load the file data from the JSON file\n",
    "    with open(json_path, 'r') as json_file:\n",
    "        file_data = json.load(json_file)\n",
    "\n",
    "    # Iterate through each file in the list\n",
    "    for file_info in file_data:\n",
    "        file_id = file_info['id']\n",
    "        # Delete the file using OpenAI API and print the status\n",
    "        st.session_state.ai_client.files.delete(file_id)\n",
    "    \n",
    "    # Open the file in write mode and close it to clear its contents\n",
    "    with open(json_path, 'w') as file:\n",
    "        pass  # Opening in 'w' mode and closing will clear the file\n",
    "\n",
    "delete_files_from_json()"
   ]
  },
  {
   "cell_type": "code",
   "execution_count": 26,
   "metadata": {},
   "outputs": [
    {
     "name": "stdout",
     "output_type": "stream",
     "text": [
      "['file-1I7bhX1YyIhKCJ7ddouuPy60', 'file-oxcDEGJLNutupSASmnV2vM3w', 'file-fQZCpJfuH5J6TQ6O6Qpt3Zxn']\n"
     ]
    }
   ],
   "source": [
    "json_path = './.bin/files.json'\n",
    "\n",
    "fileids = []\n",
    "\n",
    "# Load the file data from the JSON file\n",
    "with open(json_path, 'r') as json_file:\n",
    "    file_data = json.load(json_file)\n",
    "        # Iterate through each file in the list\n",
    "    for file_info in file_data:\n",
    "        file_id = file_info['id']\n",
    "        fileids.append(file_id)\n",
    "    \n",
    "print(fileids)"
   ]
  }
 ],
 "metadata": {
  "kernelspec": {
   "display_name": ".venv",
   "language": "python",
   "name": "python3"
  },
  "language_info": {
   "codemirror_mode": {
    "name": "ipython",
    "version": 3
   },
   "file_extension": ".py",
   "mimetype": "text/x-python",
   "name": "python",
   "nbconvert_exporter": "python",
   "pygments_lexer": "ipython3",
   "version": "3.9.6"
  }
 },
 "nbformat": 4,
 "nbformat_minor": 2
}
