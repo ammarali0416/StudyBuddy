{
 "cells": [
  {
   "cell_type": "code",
   "execution_count": 12,
   "metadata": {},
   "outputs": [],
   "source": [
    "from azure.storage.blob import BlobServiceClient, BlobClient, ContainerClient\n",
    "import openai\n",
    "from openai import OpenAI\n",
    "from dotenv import load_dotenv, find_dotenv\n",
    "import os"
   ]
  },
  {
   "cell_type": "code",
   "execution_count": 13,
   "metadata": {},
   "outputs": [],
   "source": [
    "blob_service_client = BlobServiceClient.from_connection_string(os.getenv(\"AZURE_STORAGE_CONNECTION_STRING\"))\n",
    "container_client = blob_service_client.get_container_client(os.getenv(\"AZURE_CONTAINER\"))\n",
    "\n",
    "client = OpenAI(\n",
    "    api_key=os.getenv(\"OPENAI_API_KEY\"),\n",
    ")"
   ]
  },
  {
   "cell_type": "code",
   "execution_count": 15,
   "metadata": {},
   "outputs": [],
   "source": [
    "blob_paths = [\n",
    "'BUS5000/Introduction/10dayMBA - Intro.pdf',\n",
    "'BUS5000/Introduction/STUDENT_NOTES/s1/s1w0.docx',\n",
    "'BUS5000/Introduction/STUDENT_NOTES/s2/s2w0.docx'\n",
    "]\n",
    "# List to store file objects\n",
    "uploaded_files = []\n",
    "\n",
    "for blob_path in blob_paths:\n",
    "    # Download the file from Azure Blob\n",
    "    blob_client = container_client.get_blob_client(blob_path)\n",
    "    with open(blob_path, \"wb\") as download_file:\n",
    "        download_file.write(blob_client.download_blob().readall())\n",
    "\n",
    "    # Upload the file to OpenAI\n",
    "    with open(blob_path, \"rb\") as file:\n",
    "        response = client.files.create(file=file, purpose=\"assistants\")\n",
    "        uploaded_files.append(response)"
   ]
  },
  {
   "cell_type": "code",
   "execution_count": 18,
   "metadata": {},
   "outputs": [],
   "source": [
    "for file in uploaded_files:\n",
    "    client.files.delete(file.id)\n"
   ]
  }
 ],
 "metadata": {
  "kernelspec": {
   "display_name": ".venv",
   "language": "python",
   "name": "python3"
  },
  "language_info": {
   "codemirror_mode": {
    "name": "ipython",
    "version": 3
   },
   "file_extension": ".py",
   "mimetype": "text/x-python",
   "name": "python",
   "nbconvert_exporter": "python",
   "pygments_lexer": "ipython3",
   "version": "3.9.6"
  }
 },
 "nbformat": 4,
 "nbformat_minor": 2
}
