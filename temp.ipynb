{
 "cells": [
  {
   "cell_type": "code",
   "execution_count": 18,
   "metadata": {},
   "outputs": [
    {
     "data": {
      "text/plain": [
       "True"
      ]
     },
     "execution_count": 18,
     "metadata": {},
     "output_type": "execute_result"
    }
   ],
   "source": [
    "from azure.storage.blob import BlobServiceClient, BlobClient, ContainerClient\n",
    "import openai\n",
    "from openai import OpenAI\n",
    "from dotenv import load_dotenv, find_dotenv\n",
    "import os\n",
    "import json\n",
    "\n",
    "load_dotenv(find_dotenv())"
   ]
  },
  {
   "cell_type": "code",
   "execution_count": 19,
   "metadata": {},
   "outputs": [],
   "source": [
    "blob_service_client = BlobServiceClient.from_connection_string(os.getenv(\"AZURE_STORAGE_CONNECTION_STRING\"))\n",
    "container_client = blob_service_client.get_container_client(os.getenv(\"AZURE_CONTAINER\"))\n",
    "\n",
    "client = OpenAI(\n",
    "    api_key=os.getenv(\"OPENAI_API_KEY\"),\n",
    ")\n"
   ]
  },
  {
   "cell_type": "code",
   "execution_count": 22,
   "metadata": {},
   "outputs": [],
   "source": [
    "staging_dir = '/staging'\n",
    "os.makedirs(staging_dir, exist_ok=True)\n",
    "\n",
    "\n",
    "blob_paths = [\n",
    "'BUS5000/Introduction/10dayMBA - Intro.pdf',\n",
    "'BUS5000/Introduction/STUDENT_NOTES/s1/s1w0.docx',\n",
    "'BUS5000/Introduction/STUDENT_NOTES/s2/s2w0.docx'\n",
    "]\n",
    "# List to store file objects\n",
    "uploaded_files = []\n",
    "\n",
    "for blob_path in blob_paths:\n",
    "    # Adjust the path to save in the staging directory\n",
    "    staging_path = os.path.join(staging_dir, os.path.basename(blob_path))\n",
    "\n",
    "    # Download the file from Azure Blob\n",
    "    blob_client = container_client.get_blob_client(blob_path)\n",
    "    with open(staging_path, \"wb\") as download_file:\n",
    "        download_file.write(blob_client.download_blob().readall())\n",
    "\n",
    "    # Upload the file to OpenAI\n",
    "    with open(staging_path, \"rb\") as file:\n",
    "        response = client.files.create(file=file, purpose=\"assistants\")\n",
    "        uploaded_files.append(response)\n",
    "\n",
    "    # Delete the file from the staging directory\n",
    "    os.remove(staging_path)\n",
    "\n",
    "# Function to convert FileObject to a serializable dictionary\n",
    "def file_object_to_dict(file_obj):\n",
    "    return {\n",
    "        'id': file_obj.id,\n",
    "        'bytes': file_obj.bytes,\n",
    "        'created_at': file_obj.created_at,\n",
    "        'filename': file_obj.filename,\n",
    "        'object': file_obj.object,\n",
    "        'purpose': file_obj.purpose,\n",
    "        'status': file_obj.status,\n",
    "        'status_details': file_obj.status_details\n",
    "    }\n",
    "\n",
    "# Convert each FileObject in the list to a dictionary\n",
    "file_dicts = [file_object_to_dict(file_obj) for file_obj in uploaded_files]\n",
    "\n",
    "# Save the list of dictionaries as a JSON list\n",
    "json_path = './.bin/files.json'\n",
    "with open(json_path, 'w') as json_file:\n",
    "    json.dump(file_dicts, json_file)"
   ]
  },
  {
   "cell_type": "code",
   "execution_count": 22,
   "metadata": {},
   "outputs": [
    {
     "name": "stdout",
     "output_type": "stream",
     "text": [
      "Deleted file file-183J5qW4YR5swyMd67rIPLFA\n",
      "Deleted file file-2iMor5j5BBN8jYLou1rvNgl2\n",
      "Deleted file file-Rz4NLaIi5bdhsDUeDwy674r4\n",
      "Deleted file file-hOIlgRLDBy7aEH3Jgu3mjb9B\n",
      "Deleted file file-lGUQHlgWAKeozDd08feZcRtM\n",
      "Deleted file file-9IJfZpAfX39gZw2iT3CpHYtk\n",
      "Deleted file file-y5wq3UbFHy1YZdaLjY0W9AIH\n",
      "Deleted file file-l4cV4p8PMxxdPb5utucARJ0r\n",
      "Deleted file file-RBs8iX0qsVwxEKFIivKTmPBe\n",
      "Deleted file file-nmf9Fi5S15uvasWHijN5vvXK\n",
      "Deleted file file-y5aek5I2heiKhBRQH0YmCIAS\n",
      "Deleted file file-qCpLcxbvBROxCG1ehFSZY5Oh\n",
      "Deleted file file-xezeLthSxhG1tlH6F9tZa6mf\n",
      "Deleted file file-lwXRv8ScOAwOdvkwGxmuanaY\n",
      "Deleted file file-exAi161HW9VCQoV8tqVigC1O\n",
      "ending..\n"
     ]
    }
   ],
   "source": [
    "def delete_files_from_openai():\n",
    "    files = client.files.list()\n",
    "    # Check if there are no files\n",
    "    if not files.data:\n",
    "        print(\"ending..\")\n",
    "        return  # End the function if there are no files\n",
    "\n",
    "    # If there are files, proceed with deletion\n",
    "    for file in files.data:\n",
    "        file_id = file.id\n",
    "        client.files.delete(\n",
    "            file_id=file_id\n",
    "        )    \n",
    "        print(f\"Deleted file {file_id}\")\n",
    "    \n",
    "    files = client.beta.assistants.files.list(\n",
    "        assistant_id=os.getenv(\"OPENAI_ASSISTANT\")\n",
    "    )\n",
    "\n",
    "    # Check if there are no files\n",
    "    if not files.data:\n",
    "        print(\"ending..\")\n",
    "        return  # End the function if there are no files\n",
    "\n",
    "    # If there are files, proceed with deletion\n",
    "    for file in files.data:\n",
    "        file_id = file.id\n",
    "        client.beta.assistants.files.delete(\n",
    "            assistant_id=os.getenv(\"OPENAI_ASSISTANT\"),\n",
    "            file_id=file_id\n",
    "        )\n",
    "    \n",
    "# Call the function to execute\n",
    "delete_files_from_openai()\n"
   ]
  }
 ],
 "metadata": {
  "kernelspec": {
   "display_name": ".venv",
   "language": "python",
   "name": "python3"
  },
  "language_info": {
   "codemirror_mode": {
    "name": "ipython",
    "version": 3
   },
   "file_extension": ".py",
   "mimetype": "text/x-python",
   "name": "python",
   "nbconvert_exporter": "python",
   "pygments_lexer": "ipython3",
   "version": "3.9.6"
  }
 },
 "nbformat": 4,
 "nbformat_minor": 2
}
